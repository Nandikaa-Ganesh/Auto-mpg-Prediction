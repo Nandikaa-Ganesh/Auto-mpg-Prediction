{
  "cells": [
    {
      "cell_type": "code",
      "execution_count": null,
      "id": "0b2bd8b6-ec9b-49e9-82c9-573ca364904f",
      "metadata": {
        "id": "0b2bd8b6-ec9b-49e9-82c9-573ca364904f"
      },
      "outputs": [],
      "source": [
        "import pandas as pd\n",
        "import numpy as np\n",
        "import seaborn as sns\n",
        "import matplotlib.pyplot as plt\n",
        "\n",
        "# Pandas and Numpy have been used for Data Manipulation and numerical Calculations\n",
        "# Matplotlib and Seaborn have been used for Data visualizations"
      ]
    },
    {
      "cell_type": "code",
      "execution_count": null,
      "id": "a63babb2-cd59-447f-a705-16e42525f2aa",
      "metadata": {
        "id": "a63babb2-cd59-447f-a705-16e42525f2aa"
      },
      "outputs": [],
      "source": [
        "import warnings\n",
        "\n",
        "# Suppress all warnings\n",
        "warnings.filterwarnings('ignore')"
      ]
    },
    {
      "cell_type": "markdown",
      "id": "c2f5de8a-ce8a-44ab-b5c6-02b9ec1305de",
      "metadata": {
        "id": "c2f5de8a-ce8a-44ab-b5c6-02b9ec1305de"
      },
      "source": [
        "# Importing Dataset required"
      ]
    },
    {
      "cell_type": "code",
      "execution_count": null,
      "id": "9564bd16-4793-4303-beb8-888768dc0ccb",
      "metadata": {
        "id": "9564bd16-4793-4303-beb8-888768dc0ccb"
      },
      "outputs": [],
      "source": [
        "df = pd.read_csv(\"mpg.csv\",  na_values='?')"
      ]
    },
    {
      "cell_type": "code",
      "execution_count": null,
      "id": "d4489569-f4a6-4d22-80c2-4e0bf24c67b0",
      "metadata": {
        "id": "d4489569-f4a6-4d22-80c2-4e0bf24c67b0",
        "outputId": "fc0ec0d6-c1ef-416e-a435-bef63360493d"
      },
      "outputs": [
        {
          "data": {
            "text/html": [
              "<div>\n",
              "<style scoped>\n",
              "    .dataframe tbody tr th:only-of-type {\n",
              "        vertical-align: middle;\n",
              "    }\n",
              "\n",
              "    .dataframe tbody tr th {\n",
              "        vertical-align: top;\n",
              "    }\n",
              "\n",
              "    .dataframe thead th {\n",
              "        text-align: right;\n",
              "    }\n",
              "</style>\n",
              "<table border=\"1\" class=\"dataframe\">\n",
              "  <thead>\n",
              "    <tr style=\"text-align: right;\">\n",
              "      <th></th>\n",
              "      <th>mpg</th>\n",
              "      <th>cylinders</th>\n",
              "      <th>displacement</th>\n",
              "      <th>horsepower</th>\n",
              "      <th>weight</th>\n",
              "      <th>acceleration</th>\n",
              "      <th>model_year</th>\n",
              "      <th>origin</th>\n",
              "      <th>name</th>\n",
              "    </tr>\n",
              "  </thead>\n",
              "  <tbody>\n",
              "    <tr>\n",
              "      <th>0</th>\n",
              "      <td>18.0</td>\n",
              "      <td>8</td>\n",
              "      <td>307.0</td>\n",
              "      <td>130.0</td>\n",
              "      <td>3504</td>\n",
              "      <td>12.0</td>\n",
              "      <td>70</td>\n",
              "      <td>1</td>\n",
              "      <td>chevrolet chevelle malibu</td>\n",
              "    </tr>\n",
              "    <tr>\n",
              "      <th>1</th>\n",
              "      <td>15.0</td>\n",
              "      <td>8</td>\n",
              "      <td>350.0</td>\n",
              "      <td>165.0</td>\n",
              "      <td>3693</td>\n",
              "      <td>11.5</td>\n",
              "      <td>70</td>\n",
              "      <td>1</td>\n",
              "      <td>buick skylark 320</td>\n",
              "    </tr>\n",
              "    <tr>\n",
              "      <th>2</th>\n",
              "      <td>18.0</td>\n",
              "      <td>8</td>\n",
              "      <td>318.0</td>\n",
              "      <td>150.0</td>\n",
              "      <td>3436</td>\n",
              "      <td>11.0</td>\n",
              "      <td>70</td>\n",
              "      <td>1</td>\n",
              "      <td>plymouth satellite</td>\n",
              "    </tr>\n",
              "    <tr>\n",
              "      <th>3</th>\n",
              "      <td>16.0</td>\n",
              "      <td>8</td>\n",
              "      <td>304.0</td>\n",
              "      <td>150.0</td>\n",
              "      <td>3433</td>\n",
              "      <td>12.0</td>\n",
              "      <td>70</td>\n",
              "      <td>1</td>\n",
              "      <td>amc rebel sst</td>\n",
              "    </tr>\n",
              "    <tr>\n",
              "      <th>4</th>\n",
              "      <td>17.0</td>\n",
              "      <td>8</td>\n",
              "      <td>302.0</td>\n",
              "      <td>140.0</td>\n",
              "      <td>3449</td>\n",
              "      <td>10.5</td>\n",
              "      <td>70</td>\n",
              "      <td>1</td>\n",
              "      <td>ford torino</td>\n",
              "    </tr>\n",
              "    <tr>\n",
              "      <th>...</th>\n",
              "      <td>...</td>\n",
              "      <td>...</td>\n",
              "      <td>...</td>\n",
              "      <td>...</td>\n",
              "      <td>...</td>\n",
              "      <td>...</td>\n",
              "      <td>...</td>\n",
              "      <td>...</td>\n",
              "      <td>...</td>\n",
              "    </tr>\n",
              "    <tr>\n",
              "      <th>393</th>\n",
              "      <td>27.0</td>\n",
              "      <td>4</td>\n",
              "      <td>140.0</td>\n",
              "      <td>86.0</td>\n",
              "      <td>2790</td>\n",
              "      <td>15.6</td>\n",
              "      <td>82</td>\n",
              "      <td>1</td>\n",
              "      <td>ford mustang gl</td>\n",
              "    </tr>\n",
              "    <tr>\n",
              "      <th>394</th>\n",
              "      <td>44.0</td>\n",
              "      <td>4</td>\n",
              "      <td>97.0</td>\n",
              "      <td>52.0</td>\n",
              "      <td>2130</td>\n",
              "      <td>24.6</td>\n",
              "      <td>82</td>\n",
              "      <td>2</td>\n",
              "      <td>vw pickup</td>\n",
              "    </tr>\n",
              "    <tr>\n",
              "      <th>395</th>\n",
              "      <td>32.0</td>\n",
              "      <td>4</td>\n",
              "      <td>135.0</td>\n",
              "      <td>84.0</td>\n",
              "      <td>2295</td>\n",
              "      <td>11.6</td>\n",
              "      <td>82</td>\n",
              "      <td>1</td>\n",
              "      <td>dodge rampage</td>\n",
              "    </tr>\n",
              "    <tr>\n",
              "      <th>396</th>\n",
              "      <td>28.0</td>\n",
              "      <td>4</td>\n",
              "      <td>120.0</td>\n",
              "      <td>79.0</td>\n",
              "      <td>2625</td>\n",
              "      <td>18.6</td>\n",
              "      <td>82</td>\n",
              "      <td>1</td>\n",
              "      <td>ford ranger</td>\n",
              "    </tr>\n",
              "    <tr>\n",
              "      <th>397</th>\n",
              "      <td>31.0</td>\n",
              "      <td>4</td>\n",
              "      <td>119.0</td>\n",
              "      <td>82.0</td>\n",
              "      <td>2720</td>\n",
              "      <td>19.4</td>\n",
              "      <td>82</td>\n",
              "      <td>1</td>\n",
              "      <td>chevy s-10</td>\n",
              "    </tr>\n",
              "  </tbody>\n",
              "</table>\n",
              "<p>398 rows × 9 columns</p>\n",
              "</div>"
            ],
            "text/plain": [
              "      mpg  cylinders  displacement  horsepower  weight  acceleration  \\\n",
              "0    18.0          8         307.0       130.0    3504          12.0   \n",
              "1    15.0          8         350.0       165.0    3693          11.5   \n",
              "2    18.0          8         318.0       150.0    3436          11.0   \n",
              "3    16.0          8         304.0       150.0    3433          12.0   \n",
              "4    17.0          8         302.0       140.0    3449          10.5   \n",
              "..    ...        ...           ...         ...     ...           ...   \n",
              "393  27.0          4         140.0        86.0    2790          15.6   \n",
              "394  44.0          4          97.0        52.0    2130          24.6   \n",
              "395  32.0          4         135.0        84.0    2295          11.6   \n",
              "396  28.0          4         120.0        79.0    2625          18.6   \n",
              "397  31.0          4         119.0        82.0    2720          19.4   \n",
              "\n",
              "     model_year  origin                       name  \n",
              "0            70       1  chevrolet chevelle malibu  \n",
              "1            70       1          buick skylark 320  \n",
              "2            70       1         plymouth satellite  \n",
              "3            70       1              amc rebel sst  \n",
              "4            70       1                ford torino  \n",
              "..          ...     ...                        ...  \n",
              "393          82       1            ford mustang gl  \n",
              "394          82       2                  vw pickup  \n",
              "395          82       1              dodge rampage  \n",
              "396          82       1                ford ranger  \n",
              "397          82       1                 chevy s-10  \n",
              "\n",
              "[398 rows x 9 columns]"
            ]
          },
          "execution_count": 21,
          "metadata": {},
          "output_type": "execute_result"
        }
      ],
      "source": [
        "df"
      ]
    },
    {
      "cell_type": "markdown",
      "id": "a9ca488f-67fb-4966-b097-909c2605585e",
      "metadata": {
        "id": "a9ca488f-67fb-4966-b097-909c2605585e"
      },
      "source": [
        "# Understanding Data"
      ]
    },
    {
      "cell_type": "code",
      "execution_count": null,
      "id": "0f412edd-9d13-4a40-b2d4-7221f5048323",
      "metadata": {
        "id": "0f412edd-9d13-4a40-b2d4-7221f5048323",
        "outputId": "56bec4e6-b070-46df-ad32-10f7eda77768"
      },
      "outputs": [
        {
          "data": {
            "text/html": [
              "<div>\n",
              "<style scoped>\n",
              "    .dataframe tbody tr th:only-of-type {\n",
              "        vertical-align: middle;\n",
              "    }\n",
              "\n",
              "    .dataframe tbody tr th {\n",
              "        vertical-align: top;\n",
              "    }\n",
              "\n",
              "    .dataframe thead th {\n",
              "        text-align: right;\n",
              "    }\n",
              "</style>\n",
              "<table border=\"1\" class=\"dataframe\">\n",
              "  <thead>\n",
              "    <tr style=\"text-align: right;\">\n",
              "      <th></th>\n",
              "      <th>mpg</th>\n",
              "      <th>cylinders</th>\n",
              "      <th>displacement</th>\n",
              "      <th>horsepower</th>\n",
              "      <th>weight</th>\n",
              "      <th>acceleration</th>\n",
              "      <th>model_year</th>\n",
              "      <th>origin</th>\n",
              "    </tr>\n",
              "  </thead>\n",
              "  <tbody>\n",
              "    <tr>\n",
              "      <th>count</th>\n",
              "      <td>398.000000</td>\n",
              "      <td>398.000000</td>\n",
              "      <td>398.000000</td>\n",
              "      <td>392.000000</td>\n",
              "      <td>398.000000</td>\n",
              "      <td>398.000000</td>\n",
              "      <td>398.000000</td>\n",
              "      <td>398.000000</td>\n",
              "    </tr>\n",
              "    <tr>\n",
              "      <th>mean</th>\n",
              "      <td>23.514573</td>\n",
              "      <td>5.454774</td>\n",
              "      <td>193.425879</td>\n",
              "      <td>104.469388</td>\n",
              "      <td>2970.424623</td>\n",
              "      <td>15.568090</td>\n",
              "      <td>76.010050</td>\n",
              "      <td>1.572864</td>\n",
              "    </tr>\n",
              "    <tr>\n",
              "      <th>std</th>\n",
              "      <td>7.815984</td>\n",
              "      <td>1.701004</td>\n",
              "      <td>104.269838</td>\n",
              "      <td>38.491160</td>\n",
              "      <td>846.841774</td>\n",
              "      <td>2.757689</td>\n",
              "      <td>3.697627</td>\n",
              "      <td>0.802055</td>\n",
              "    </tr>\n",
              "    <tr>\n",
              "      <th>min</th>\n",
              "      <td>9.000000</td>\n",
              "      <td>3.000000</td>\n",
              "      <td>68.000000</td>\n",
              "      <td>46.000000</td>\n",
              "      <td>1613.000000</td>\n",
              "      <td>8.000000</td>\n",
              "      <td>70.000000</td>\n",
              "      <td>1.000000</td>\n",
              "    </tr>\n",
              "    <tr>\n",
              "      <th>25%</th>\n",
              "      <td>17.500000</td>\n",
              "      <td>4.000000</td>\n",
              "      <td>104.250000</td>\n",
              "      <td>75.000000</td>\n",
              "      <td>2223.750000</td>\n",
              "      <td>13.825000</td>\n",
              "      <td>73.000000</td>\n",
              "      <td>1.000000</td>\n",
              "    </tr>\n",
              "    <tr>\n",
              "      <th>50%</th>\n",
              "      <td>23.000000</td>\n",
              "      <td>4.000000</td>\n",
              "      <td>148.500000</td>\n",
              "      <td>93.500000</td>\n",
              "      <td>2803.500000</td>\n",
              "      <td>15.500000</td>\n",
              "      <td>76.000000</td>\n",
              "      <td>1.000000</td>\n",
              "    </tr>\n",
              "    <tr>\n",
              "      <th>75%</th>\n",
              "      <td>29.000000</td>\n",
              "      <td>8.000000</td>\n",
              "      <td>262.000000</td>\n",
              "      <td>126.000000</td>\n",
              "      <td>3608.000000</td>\n",
              "      <td>17.175000</td>\n",
              "      <td>79.000000</td>\n",
              "      <td>2.000000</td>\n",
              "    </tr>\n",
              "    <tr>\n",
              "      <th>max</th>\n",
              "      <td>46.600000</td>\n",
              "      <td>8.000000</td>\n",
              "      <td>455.000000</td>\n",
              "      <td>230.000000</td>\n",
              "      <td>5140.000000</td>\n",
              "      <td>24.800000</td>\n",
              "      <td>82.000000</td>\n",
              "      <td>3.000000</td>\n",
              "    </tr>\n",
              "  </tbody>\n",
              "</table>\n",
              "</div>"
            ],
            "text/plain": [
              "              mpg   cylinders  displacement  horsepower       weight  \\\n",
              "count  398.000000  398.000000    398.000000  392.000000   398.000000   \n",
              "mean    23.514573    5.454774    193.425879  104.469388  2970.424623   \n",
              "std      7.815984    1.701004    104.269838   38.491160   846.841774   \n",
              "min      9.000000    3.000000     68.000000   46.000000  1613.000000   \n",
              "25%     17.500000    4.000000    104.250000   75.000000  2223.750000   \n",
              "50%     23.000000    4.000000    148.500000   93.500000  2803.500000   \n",
              "75%     29.000000    8.000000    262.000000  126.000000  3608.000000   \n",
              "max     46.600000    8.000000    455.000000  230.000000  5140.000000   \n",
              "\n",
              "       acceleration  model_year      origin  \n",
              "count    398.000000  398.000000  398.000000  \n",
              "mean      15.568090   76.010050    1.572864  \n",
              "std        2.757689    3.697627    0.802055  \n",
              "min        8.000000   70.000000    1.000000  \n",
              "25%       13.825000   73.000000    1.000000  \n",
              "50%       15.500000   76.000000    1.000000  \n",
              "75%       17.175000   79.000000    2.000000  \n",
              "max       24.800000   82.000000    3.000000  "
            ]
          },
          "execution_count": 22,
          "metadata": {},
          "output_type": "execute_result"
        }
      ],
      "source": [
        "df.describe()"
      ]
    },
    {
      "cell_type": "markdown",
      "id": "55fbec04-837c-4412-a4c5-1ab6dfb2ae07",
      "metadata": {
        "id": "55fbec04-837c-4412-a4c5-1ab6dfb2ae07"
      },
      "source": [
        "## Data Types of the Data"
      ]
    },
    {
      "cell_type": "code",
      "execution_count": null,
      "id": "b29bbf6a-cb08-4d47-abb9-df04584b4799",
      "metadata": {
        "id": "b29bbf6a-cb08-4d47-abb9-df04584b4799",
        "outputId": "8269b3f1-0fd3-4569-d056-e860d8020519"
      },
      "outputs": [
        {
          "data": {
            "text/plain": [
              "mpg             float64\n",
              "cylinders         int64\n",
              "displacement    float64\n",
              "horsepower      float64\n",
              "weight            int64\n",
              "acceleration    float64\n",
              "model_year        int64\n",
              "origin            int64\n",
              "name             object\n",
              "dtype: object"
            ]
          },
          "execution_count": 23,
          "metadata": {},
          "output_type": "execute_result"
        }
      ],
      "source": [
        "df.dtypes"
      ]
    },
    {
      "cell_type": "markdown",
      "id": "eb481126-b58f-440f-a7ea-98a7cb99aa51",
      "metadata": {
        "id": "eb481126-b58f-440f-a7ea-98a7cb99aa51"
      },
      "source": [
        "All are numerical values except \"name\""
      ]
    },
    {
      "cell_type": "code",
      "execution_count": null,
      "id": "cc2ca66e-6dd9-428b-b1c3-833b537d9d45",
      "metadata": {
        "id": "cc2ca66e-6dd9-428b-b1c3-833b537d9d45",
        "outputId": "877e06ec-c1b7-4073-96d8-e6010586325b"
      },
      "outputs": [
        {
          "data": {
            "text/plain": [
              "(398, 9)"
            ]
          },
          "execution_count": 24,
          "metadata": {},
          "output_type": "execute_result"
        }
      ],
      "source": [
        "df.shape"
      ]
    },
    {
      "cell_type": "markdown",
      "id": "4cb596c8-4f38-46ab-a1e9-45d7accfc146",
      "metadata": {
        "id": "4cb596c8-4f38-46ab-a1e9-45d7accfc146"
      },
      "source": [
        "## Checking for Duplicates"
      ]
    },
    {
      "cell_type": "code",
      "execution_count": null,
      "id": "a598fc6e-f317-4518-ada2-ca60f2c3ea2a",
      "metadata": {
        "id": "a598fc6e-f317-4518-ada2-ca60f2c3ea2a"
      },
      "outputs": [],
      "source": [
        "duplicated_rows = df[df.duplicated()]"
      ]
    },
    {
      "cell_type": "code",
      "execution_count": null,
      "id": "77e6f693-de95-4025-aead-fa038ec35a9e",
      "metadata": {
        "id": "77e6f693-de95-4025-aead-fa038ec35a9e",
        "outputId": "14fc5288-0e4b-4059-d975-b86a736e5751"
      },
      "outputs": [
        {
          "data": {
            "text/html": [
              "<div>\n",
              "<style scoped>\n",
              "    .dataframe tbody tr th:only-of-type {\n",
              "        vertical-align: middle;\n",
              "    }\n",
              "\n",
              "    .dataframe tbody tr th {\n",
              "        vertical-align: top;\n",
              "    }\n",
              "\n",
              "    .dataframe thead th {\n",
              "        text-align: right;\n",
              "    }\n",
              "</style>\n",
              "<table border=\"1\" class=\"dataframe\">\n",
              "  <thead>\n",
              "    <tr style=\"text-align: right;\">\n",
              "      <th></th>\n",
              "      <th>mpg</th>\n",
              "      <th>cylinders</th>\n",
              "      <th>displacement</th>\n",
              "      <th>horsepower</th>\n",
              "      <th>weight</th>\n",
              "      <th>acceleration</th>\n",
              "      <th>model_year</th>\n",
              "      <th>origin</th>\n",
              "      <th>name</th>\n",
              "    </tr>\n",
              "  </thead>\n",
              "  <tbody>\n",
              "  </tbody>\n",
              "</table>\n",
              "</div>"
            ],
            "text/plain": [
              "Empty DataFrame\n",
              "Columns: [mpg, cylinders, displacement, horsepower, weight, acceleration, model_year, origin, name]\n",
              "Index: []"
            ]
          },
          "execution_count": 26,
          "metadata": {},
          "output_type": "execute_result"
        }
      ],
      "source": [
        "duplicated_rows"
      ]
    },
    {
      "cell_type": "markdown",
      "id": "04652d1c-c16f-4cff-b3bd-a281cb353f19",
      "metadata": {
        "id": "04652d1c-c16f-4cff-b3bd-a281cb353f19"
      },
      "source": [
        "There is no duplicate values."
      ]
    },
    {
      "cell_type": "markdown",
      "id": "306bc6b1-6afa-475b-86e4-65880ddc0564",
      "metadata": {
        "id": "306bc6b1-6afa-475b-86e4-65880ddc0564"
      },
      "source": [
        "## Checking for missing values"
      ]
    },
    {
      "cell_type": "code",
      "execution_count": null,
      "id": "1ccb8822-a2ec-4d95-a6fb-4509779920ac",
      "metadata": {
        "id": "1ccb8822-a2ec-4d95-a6fb-4509779920ac",
        "outputId": "412bf451-8c79-426b-b5db-0e7a4ce062b2"
      },
      "outputs": [
        {
          "data": {
            "text/plain": [
              "mpg             0\n",
              "cylinders       0\n",
              "displacement    0\n",
              "horsepower      6\n",
              "weight          0\n",
              "acceleration    0\n",
              "model_year      0\n",
              "origin          0\n",
              "name            0\n",
              "dtype: int64"
            ]
          },
          "execution_count": 37,
          "metadata": {},
          "output_type": "execute_result"
        }
      ],
      "source": [
        "df.isnull().sum()"
      ]
    },
    {
      "cell_type": "markdown",
      "id": "98046c40-3af0-42f8-8abc-60bead07f4d5",
      "metadata": {
        "id": "98046c40-3af0-42f8-8abc-60bead07f4d5"
      },
      "source": [
        "There are 6 missing values in horsepower (6 out of 398 rows is a very very less count - we can choose to remove the rows or apply any imputation techniques)"
      ]
    },
    {
      "cell_type": "markdown",
      "id": "e57630fa-6e27-4a38-9c14-734a3c5201d5",
      "metadata": {
        "id": "e57630fa-6e27-4a38-9c14-734a3c5201d5"
      },
      "source": [
        "### Applying various Imputation techniques"
      ]
    },
    {
      "cell_type": "code",
      "execution_count": null,
      "id": "0b7b0d21-5293-4780-8a85-617bae088a7a",
      "metadata": {
        "scrolled": true,
        "id": "0b7b0d21-5293-4780-8a85-617bae088a7a",
        "outputId": "108c5ee7-6146-4275-d575-658b25b8e37b"
      },
      "outputs": [
        {
          "name": "stdout",
          "output_type": "stream",
          "text": [
            "Imputation strategy: mean\n",
            "   horsepower\n",
            "0       130.0\n",
            "1       165.0\n",
            "2       150.0\n",
            "3       150.0\n",
            "4       140.0\n",
            "\n",
            "Imputation strategy: median\n",
            "   horsepower\n",
            "0       130.0\n",
            "1       165.0\n",
            "2       150.0\n",
            "3       150.0\n",
            "4       140.0\n",
            "\n",
            "Imputation strategy: constant\n",
            "   horsepower\n",
            "0       130.0\n",
            "1       165.0\n",
            "2       150.0\n",
            "3       150.0\n",
            "4       140.0\n",
            "\n",
            "Imputation strategy: most_frequent\n",
            "   horsepower\n",
            "0       130.0\n",
            "1       165.0\n",
            "2       150.0\n",
            "3       150.0\n",
            "4       140.0\n",
            "\n",
            "Imputation strategy: ffill\n",
            "   horsepower\n",
            "0       130.0\n",
            "1       165.0\n",
            "2       150.0\n",
            "3       150.0\n",
            "4       140.0\n",
            "\n",
            "Imputation strategy: bfill\n",
            "   horsepower\n",
            "0       130.0\n",
            "1       165.0\n",
            "2       150.0\n",
            "3       150.0\n",
            "4       140.0\n",
            "\n",
            "Imputation strategy: linear\n",
            "   horsepower\n",
            "0       130.0\n",
            "1       165.0\n",
            "2       150.0\n",
            "3       150.0\n",
            "4       140.0\n",
            "\n",
            "Imputation strategy: knn\n",
            "   horsepower\n",
            "0       130.0\n",
            "1       165.0\n",
            "2       150.0\n",
            "3       150.0\n",
            "4       140.0\n",
            "\n",
            "Imputation strategy: regression\n",
            "   horsepower\n",
            "0       130.0\n",
            "1       165.0\n",
            "2       150.0\n",
            "3       150.0\n",
            "4       140.0\n",
            "\n"
          ]
        }
      ],
      "source": [
        "from sklearn.impute import SimpleImputer\n",
        "from sklearn.linear_model import LinearRegression\n",
        "from sklearn.neighbors import KNeighborsRegressor\n",
        "\n",
        "# Define the imputation strategies\n",
        "imputation_strategies = ['mean', 'median', 'constant', 'most_frequent', 'ffill', 'bfill', 'linear', 'knn', 'regression']\n",
        "\n",
        "# Loop through each strategy\n",
        "for strategy in imputation_strategies:\n",
        "    # Create a new DataFrame with the 'horsepower' column\n",
        "    df_hp = df[['horsepower']].copy()\n",
        "\n",
        "    # Apply the imputation strategy\n",
        "    if strategy == 'mean':\n",
        "        imputer = SimpleImputer(strategy='mean')\n",
        "    elif strategy == 'median':\n",
        "        imputer = SimpleImputer(strategy='median')\n",
        "    elif strategy == 'constant':\n",
        "        imputer = SimpleImputer(strategy='constant', fill_value=0)\n",
        "    elif strategy == 'most_frequent':\n",
        "        imputer = SimpleImputer(strategy='most_frequent')\n",
        "    elif strategy == 'ffill':\n",
        "        df_hp.fillna(method='ffill', inplace=True)\n",
        "    elif strategy == 'bfill':\n",
        "        df_hp.fillna(method='bfill', inplace=True)\n",
        "    elif strategy == 'linear':\n",
        "        df_hp.interpolate(method='linear', inplace=True)\n",
        "\n",
        "    # Print the DataFrame with imputed values\n",
        "    print(f'Imputation strategy: {strategy}')\n",
        "    print(df_hp.head())\n",
        "    print()\n"
      ]
    },
    {
      "cell_type": "markdown",
      "id": "65430a13-cab5-4aa3-983c-f59316b3510a",
      "metadata": {
        "id": "65430a13-cab5-4aa3-983c-f59316b3510a"
      },
      "source": [
        "### Dropping missing rows"
      ]
    },
    {
      "cell_type": "code",
      "execution_count": null,
      "id": "e4bdce84-d792-4e7f-a209-954d4b12c35f",
      "metadata": {
        "id": "e4bdce84-d792-4e7f-a209-954d4b12c35f"
      },
      "outputs": [],
      "source": [
        "df = df.dropna(axis=0) ##removing rows - therefore axis=0"
      ]
    },
    {
      "cell_type": "code",
      "execution_count": null,
      "id": "0a2ded3f-ecca-40a8-980e-04d955b0610a",
      "metadata": {
        "id": "0a2ded3f-ecca-40a8-980e-04d955b0610a",
        "outputId": "1026f180-114a-445c-8e30-0b93bba086ce"
      },
      "outputs": [
        {
          "data": {
            "text/plain": [
              "mpg             0\n",
              "cylinders       0\n",
              "displacement    0\n",
              "horsepower      0\n",
              "weight          0\n",
              "acceleration    0\n",
              "model_year      0\n",
              "origin          0\n",
              "name            0\n",
              "dtype: int64"
            ]
          },
          "execution_count": 39,
          "metadata": {},
          "output_type": "execute_result"
        }
      ],
      "source": [
        "df.isnull().sum()"
      ]
    },
    {
      "cell_type": "markdown",
      "id": "791430af-318e-4d36-933e-fff17dc22ebd",
      "metadata": {
        "id": "791430af-318e-4d36-933e-fff17dc22ebd"
      },
      "source": [
        "There are no missing values here"
      ]
    },
    {
      "cell_type": "markdown",
      "id": "f8391782-cbe0-4cdf-bb61-c0f971ab99c0",
      "metadata": {
        "id": "f8391782-cbe0-4cdf-bb61-c0f971ab99c0"
      },
      "source": [
        "## Inferencing from Data"
      ]
    },
    {
      "cell_type": "code",
      "execution_count": null,
      "id": "2fc68600-1574-4a7d-9a06-95b7235816df",
      "metadata": {
        "id": "2fc68600-1574-4a7d-9a06-95b7235816df",
        "outputId": "1b94590b-111c-40c1-cfcd-1cb55dc94e32"
      },
      "outputs": [
        {
          "data": {
            "text/plain": [
              "mpg             127\n",
              "cylinders         5\n",
              "displacement     81\n",
              "horsepower       93\n",
              "weight          346\n",
              "acceleration     95\n",
              "model_year       13\n",
              "origin            3\n",
              "name            301\n",
              "dtype: int64"
            ]
          },
          "execution_count": 40,
          "metadata": {},
          "output_type": "execute_result"
        }
      ],
      "source": [
        "df.nunique()"
      ]
    },
    {
      "cell_type": "markdown",
      "id": "be58db90-88fd-4b55-9a9a-88ff5da78920",
      "metadata": {
        "id": "be58db90-88fd-4b55-9a9a-88ff5da78920"
      },
      "source": [
        "The unique values are lesser in <strong>cylinders</strong> and <strong>origin</strong> columns. Therefore they can be considered as categorical values"
      ]
    },
    {
      "cell_type": "markdown",
      "id": "ce07dafb-33fc-4f22-8b35-dc9400d73173",
      "metadata": {
        "id": "ce07dafb-33fc-4f22-8b35-dc9400d73173"
      },
      "source": [
        "## Dropping unwanted columns"
      ]
    },
    {
      "cell_type": "code",
      "execution_count": null,
      "id": "b1a1df3d-e1ad-49d9-8cfc-b3db2f81e90d",
      "metadata": {
        "id": "b1a1df3d-e1ad-49d9-8cfc-b3db2f81e90d"
      },
      "outputs": [],
      "source": [
        "df.drop(columns=['name'], inplace=True)"
      ]
    },
    {
      "cell_type": "code",
      "execution_count": null,
      "id": "9101e39e-4020-47e8-af82-fecd07332adb",
      "metadata": {
        "id": "9101e39e-4020-47e8-af82-fecd07332adb",
        "outputId": "f9817c2b-cac2-485f-fb4d-6e4c89ea8245"
      },
      "outputs": [
        {
          "name": "stdout",
          "output_type": "stream",
          "text": [
            "<class 'pandas.core.frame.DataFrame'>\n",
            "Index: 392 entries, 0 to 397\n",
            "Data columns (total 8 columns):\n",
            " #   Column        Non-Null Count  Dtype  \n",
            "---  ------        --------------  -----  \n",
            " 0   mpg           392 non-null    float64\n",
            " 1   cylinders     392 non-null    int64  \n",
            " 2   displacement  392 non-null    float64\n",
            " 3   horsepower    392 non-null    float64\n",
            " 4   weight        392 non-null    int64  \n",
            " 5   acceleration  392 non-null    float64\n",
            " 6   model_year    392 non-null    int64  \n",
            " 7   origin        392 non-null    int64  \n",
            "dtypes: float64(4), int64(4)\n",
            "memory usage: 27.6 KB\n"
          ]
        }
      ],
      "source": [
        "df.info()"
      ]
    },
    {
      "cell_type": "markdown",
      "id": "11e894c5-8718-493c-b5a8-c941e45c67fa",
      "metadata": {
        "id": "11e894c5-8718-493c-b5a8-c941e45c67fa"
      },
      "source": [
        "## Finding correlation between features"
      ]
    },
    {
      "cell_type": "code",
      "execution_count": null,
      "id": "9a18e99c-c722-4d32-b2f4-e99b01a3fcc3",
      "metadata": {
        "id": "9a18e99c-c722-4d32-b2f4-e99b01a3fcc3",
        "outputId": "26e53be1-000e-4563-c881-1552c1a0669b"
      },
      "outputs": [
        {
          "data": {
            "image/png": "[encoded data removed]",
            "text/plain": [
              "<Figure size 640x480 with 2 Axes>"
            ]
          },
          "metadata": {},
          "output_type": "display_data"
        }
      ],
      "source": [
        "corr_matrix = df.corr()\n",
        "sns.heatmap(corr_matrix, annot=True, cmap='cividis', fmt='.2f')\n",
        "\n",
        "# Show the plot\n",
        "plt.show()"
      ]
    },
    {
      "cell_type": "code",
      "execution_count": null,
      "id": "f884aad7-8057-4cf6-994e-aff892e7af2e",
      "metadata": {
        "id": "f884aad7-8057-4cf6-994e-aff892e7af2e",
        "outputId": "76436c68-b4fd-4e9a-bdb3-860a9ebd191e"
      },
      "outputs": [
        {
          "data": {
            "text/html": [
              "<div>\n",
              "<style scoped>\n",
              "    .dataframe tbody tr th:only-of-type {\n",
              "        vertical-align: middle;\n",
              "    }\n",
              "\n",
              "    .dataframe tbody tr th {\n",
              "        vertical-align: top;\n",
              "    }\n",
              "\n",
              "    .dataframe thead th {\n",
              "        text-align: right;\n",
              "    }\n",
              "</style>\n",
              "<table border=\"1\" class=\"dataframe\">\n",
              "  <thead>\n",
              "    <tr style=\"text-align: right;\">\n",
              "      <th></th>\n",
              "      <th>mpg</th>\n",
              "      <th>cylinders</th>\n",
              "      <th>displacement</th>\n",
              "      <th>horsepower</th>\n",
              "      <th>weight</th>\n",
              "      <th>acceleration</th>\n",
              "      <th>model_year</th>\n",
              "      <th>origin</th>\n",
              "    </tr>\n",
              "  </thead>\n",
              "  <tbody>\n",
              "    <tr>\n",
              "      <th>mpg</th>\n",
              "      <td>1.000000</td>\n",
              "      <td>-0.777618</td>\n",
              "      <td>-0.805127</td>\n",
              "      <td>-0.778427</td>\n",
              "      <td>-0.832244</td>\n",
              "      <td>0.423329</td>\n",
              "      <td>0.580541</td>\n",
              "      <td>0.565209</td>\n",
              "    </tr>\n",
              "    <tr>\n",
              "      <th>cylinders</th>\n",
              "      <td>-0.777618</td>\n",
              "      <td>1.000000</td>\n",
              "      <td>0.950823</td>\n",
              "      <td>0.842983</td>\n",
              "      <td>0.897527</td>\n",
              "      <td>-0.504683</td>\n",
              "      <td>-0.345647</td>\n",
              "      <td>-0.568932</td>\n",
              "    </tr>\n",
              "    <tr>\n",
              "      <th>displacement</th>\n",
              "      <td>-0.805127</td>\n",
              "      <td>0.950823</td>\n",
              "      <td>1.000000</td>\n",
              "      <td>0.897257</td>\n",
              "      <td>0.932994</td>\n",
              "      <td>-0.543800</td>\n",
              "      <td>-0.369855</td>\n",
              "      <td>-0.614535</td>\n",
              "    </tr>\n",
              "    <tr>\n",
              "      <th>horsepower</th>\n",
              "      <td>-0.778427</td>\n",
              "      <td>0.842983</td>\n",
              "      <td>0.897257</td>\n",
              "      <td>1.000000</td>\n",
              "      <td>0.864538</td>\n",
              "      <td>-0.689196</td>\n",
              "      <td>-0.416361</td>\n",
              "      <td>-0.455171</td>\n",
              "    </tr>\n",
              "    <tr>\n",
              "      <th>weight</th>\n",
              "      <td>-0.832244</td>\n",
              "      <td>0.897527</td>\n",
              "      <td>0.932994</td>\n",
              "      <td>0.864538</td>\n",
              "      <td>1.000000</td>\n",
              "      <td>-0.416839</td>\n",
              "      <td>-0.309120</td>\n",
              "      <td>-0.585005</td>\n",
              "    </tr>\n",
              "    <tr>\n",
              "      <th>acceleration</th>\n",
              "      <td>0.423329</td>\n",
              "      <td>-0.504683</td>\n",
              "      <td>-0.543800</td>\n",
              "      <td>-0.689196</td>\n",
              "      <td>-0.416839</td>\n",
              "      <td>1.000000</td>\n",
              "      <td>0.290316</td>\n",
              "      <td>0.212746</td>\n",
              "    </tr>\n",
              "    <tr>\n",
              "      <th>model_year</th>\n",
              "      <td>0.580541</td>\n",
              "      <td>-0.345647</td>\n",
              "      <td>-0.369855</td>\n",
              "      <td>-0.416361</td>\n",
              "      <td>-0.309120</td>\n",
              "      <td>0.290316</td>\n",
              "      <td>1.000000</td>\n",
              "      <td>0.181528</td>\n",
              "    </tr>\n",
              "    <tr>\n",
              "      <th>origin</th>\n",
              "      <td>0.565209</td>\n",
              "      <td>-0.568932</td>\n",
              "      <td>-0.614535</td>\n",
              "      <td>-0.455171</td>\n",
              "      <td>-0.585005</td>\n",
              "      <td>0.212746</td>\n",
              "      <td>0.181528</td>\n",
              "      <td>1.000000</td>\n",
              "    </tr>\n",
              "  </tbody>\n",
              "</table>\n",
              "</div>"
            ],
            "text/plain": [
              "                   mpg  cylinders  displacement  horsepower    weight  \\\n",
              "mpg           1.000000  -0.777618     -0.805127   -0.778427 -0.832244   \n",
              "cylinders    -0.777618   1.000000      0.950823    0.842983  0.897527   \n",
              "displacement -0.805127   0.950823      1.000000    0.897257  0.932994   \n",
              "horsepower   -0.778427   0.842983      0.897257    1.000000  0.864538   \n",
              "weight       -0.832244   0.897527      0.932994    0.864538  1.000000   \n",
              "acceleration  0.423329  -0.504683     -0.543800   -0.689196 -0.416839   \n",
              "model_year    0.580541  -0.345647     -0.369855   -0.416361 -0.309120   \n",
              "origin        0.565209  -0.568932     -0.614535   -0.455171 -0.585005   \n",
              "\n",
              "              acceleration  model_year    origin  \n",
              "mpg               0.423329    0.580541  0.565209  \n",
              "cylinders        -0.504683   -0.345647 -0.568932  \n",
              "displacement     -0.543800   -0.369855 -0.614535  \n",
              "horsepower       -0.689196   -0.416361 -0.455171  \n",
              "weight           -0.416839   -0.309120 -0.585005  \n",
              "acceleration      1.000000    0.290316  0.212746  \n",
              "model_year        0.290316    1.000000  0.181528  \n",
              "origin            0.212746    0.181528  1.000000  "
            ]
          },
          "execution_count": 46,
          "metadata": {},
          "output_type": "execute_result"
        }
      ],
      "source": [
        "corr_matrix"
      ]
    },
    {
      "cell_type": "markdown",
      "id": "04dd9a63-7afe-4a2c-938c-8ee6ee25bbad",
      "metadata": {
        "id": "04dd9a63-7afe-4a2c-938c-8ee6ee25bbad"
      },
      "source": [
        "Here we have to find predict the MPG given other features. We can see that MPG depends the most to least on\n",
        "1. model_year\n",
        "2. origin\n",
        "3. acceleration\n",
        "4. cylinders\n",
        "5. horsepower\n",
        "6. displacement\n",
        "7. weight"
      ]
    },
    {
      "cell_type": "code",
      "execution_count": null,
      "id": "e7f54470-2ad3-406b-bee6-2c7f373832ea",
      "metadata": {
        "id": "e7f54470-2ad3-406b-bee6-2c7f373832ea"
      },
      "outputs": [],
      "source": []
    }
  ],
  "metadata": {
    "kernelspec": {
      "display_name": "Python 3 (ipykernel)",
      "language": "python",
      "name": "python3"
    },
    "language_info": {
      "codemirror_mode": {
        "name": "ipython",
        "version": 3
      },
      "file_extension": ".py",
      "mimetype": "text/x-python",
      "name": "python",
      "nbconvert_exporter": "python",
      "pygments_lexer": "ipython3",
      "version": "3.11.4"
    },
    "colab": {
      "provenance": []
    }
  },
  "nbformat": 4,
  "nbformat_minor": 5
}